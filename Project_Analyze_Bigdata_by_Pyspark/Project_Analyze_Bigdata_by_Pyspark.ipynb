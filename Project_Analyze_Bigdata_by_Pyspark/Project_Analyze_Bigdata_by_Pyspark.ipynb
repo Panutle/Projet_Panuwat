{
 "cells": [
  {
   "cell_type": "code",
   "execution_count": 0,
   "metadata": {
    "application/vnd.databricks.v1+cell": {
     "cellMetadata": {
      "byteLimit": 2048000,
      "rowLimit": 10000
     },
     "inputWidgets": {},
     "nuid": "c1b690af-f345-4bbf-b543-6ae721207a65",
     "showTitle": false,
     "title": ""
    }
   },
   "outputs": [
    {
     "output_type": "stream",
     "name": "stdout",
     "output_type": "stream",
     "text": [
      "Requirement already satisfied: pyspark in /local_disk0/.ephemeral_nfs/envs/pythonEnv-af4ec7a6-9277-4f4b-b9ae-edbd3d5b9e43/lib/python3.10/site-packages (3.5.0)\r\nRequirement already satisfied: py4j in /local_disk0/.ephemeral_nfs/envs/pythonEnv-af4ec7a6-9277-4f4b-b9ae-edbd3d5b9e43/lib/python3.10/site-packages (0.10.9.7)\r\n\r\n\u001B[1m[\u001B[0m\u001B[34;49mnotice\u001B[0m\u001B[1;39;49m]\u001B[0m\u001B[39;49m A new release of pip available: \u001B[0m\u001B[31;49m22.2.2\u001B[0m\u001B[39;49m -> \u001B[0m\u001B[32;49m23.2.1\u001B[0m\r\n\u001B[1m[\u001B[0m\u001B[34;49mnotice\u001B[0m\u001B[1;39;49m]\u001B[0m\u001B[39;49m To update, run: \u001B[0m\u001B[32;49mpip install --upgrade pip\u001B[0m\r\n"
     ]
    }
   ],
   "source": [
    "#ติดตั้ง pyspark และ import library ที่เป็นฟังก์ชัน sql ของ spark\n",
    "!pip install pyspark py4j --upgrade\n",
    "\n",
    "from pyspark.sql.functions import *\n"
   ]
  },
  {
   "cell_type": "code",
   "execution_count": 0,
   "metadata": {
    "application/vnd.databricks.v1+cell": {
     "cellMetadata": {
      "byteLimit": 2048000,
      "rowLimit": 10000
     },
     "inputWidgets": {},
     "nuid": "8f9cf7fb-fe11-422c-8a67-ff17a72d295f",
     "showTitle": false,
     "title": ""
    }
   },
   "outputs": [
    {
     "output_type": "stream",
     "name": "stdout",
     "output_type": "stream",
     "text": [
      "\u001B[43mNote: you may need to restart the kernel using dbutils.library.restartPython() to use updated packages.\u001B[0m\nCollecting opendatasets\n  Downloading opendatasets-0.1.22-py3-none-any.whl (15 kB)\nCollecting tqdm\n  Downloading tqdm-4.66.1-py3-none-any.whl (78 kB)\n     ━━━━━━━━━━━━━━━━━━━━━━━━━━━━━━━━━━━━━━━━ 78.3/78.3 kB 2.9 MB/s eta 0:00:00\nRequirement already satisfied: click in /databricks/python3/lib/python3.10/site-packages (from opendatasets) (8.0.4)\nCollecting kaggle\n  Downloading kaggle-1.5.16.tar.gz (83 kB)\n     ━━━━━━━━━━━━━━━━━━━━━━━━━━━━━━━━━━━━━━━━ 83.6/83.6 kB 4.9 MB/s eta 0:00:00\n  Preparing metadata (setup.py): started\n  Preparing metadata (setup.py): finished with status 'done'\nRequirement already satisfied: six>=1.10 in /usr/lib/python3/dist-packages (from kaggle->opendatasets) (1.16.0)\nRequirement already satisfied: certifi in /databricks/python3/lib/python3.10/site-packages (from kaggle->opendatasets) (2022.9.14)\nRequirement already satisfied: python-dateutil in /databricks/python3/lib/python3.10/site-packages (from kaggle->opendatasets) (2.8.2)\nRequirement already satisfied: requests in /databricks/python3/lib/python3.10/site-packages (from kaggle->opendatasets) (2.28.1)\nCollecting python-slugify\n  Downloading python_slugify-8.0.1-py2.py3-none-any.whl (9.7 kB)\nRequirement already satisfied: urllib3 in /databricks/python3/lib/python3.10/site-packages (from kaggle->opendatasets) (1.26.11)\nRequirement already satisfied: bleach in /databricks/python3/lib/python3.10/site-packages (from kaggle->opendatasets) (4.1.0)\nRequirement already satisfied: packaging in /databricks/python3/lib/python3.10/site-packages (from bleach->kaggle->opendatasets) (21.3)\nRequirement already satisfied: webencodings in /databricks/python3/lib/python3.10/site-packages (from bleach->kaggle->opendatasets) (0.5.1)\nCollecting text-unidecode>=1.3\n  Downloading text_unidecode-1.3-py2.py3-none-any.whl (78 kB)\n     ━━━━━━━━━━━━━━━━━━━━━━━━━━━━━━━━━━━━━━━━ 78.2/78.2 kB 9.1 MB/s eta 0:00:00\nRequirement already satisfied: idna<4,>=2.5 in /databricks/python3/lib/python3.10/site-packages (from requests->kaggle->opendatasets) (3.3)\nRequirement already satisfied: charset-normalizer<3,>=2 in /databricks/python3/lib/python3.10/site-packages (from requests->kaggle->opendatasets) (2.0.4)\nRequirement already satisfied: pyparsing!=3.0.5,>=2.0.2 in /databricks/python3/lib/python3.10/site-packages (from packaging->bleach->kaggle->opendatasets) (3.0.9)\nBuilding wheels for collected packages: kaggle\n  Building wheel for kaggle (setup.py): started\n  Building wheel for kaggle (setup.py): finished with status 'done'\n  Created wheel for kaggle: filename=kaggle-1.5.16-py3-none-any.whl size=110686 sha256=42ef603a3baf699ba1401c889ad471863a3afc358b3e7c5e0392e69578b6666e\n  Stored in directory: /root/.cache/pip/wheels/43/4b/fb/736478af5e8004810081a06259f9aa2f7c3329fc5d03c2c412\nSuccessfully built kaggle\nInstalling collected packages: text-unidecode, tqdm, python-slugify, kaggle, opendatasets\nSuccessfully installed kaggle-1.5.16 opendatasets-0.1.22 python-slugify-8.0.1 text-unidecode-1.3 tqdm-4.66.1\n\u001B[43mNote: you may need to restart the kernel using dbutils.library.restartPython() to use updated packages.\u001B[0m\n"
     ]
    }
   ],
   "source": [
    "#ติดตั้ง opendatasets\n",
    "%pip install opendatasets --upgrade"
   ]
  },
  {
   "cell_type": "code",
   "execution_count": 0,
   "metadata": {
    "application/vnd.databricks.v1+cell": {
     "cellMetadata": {
      "byteLimit": 2048000,
      "rowLimit": 10000
     },
     "inputWidgets": {},
     "nuid": "92378f9d-8df8-4230-b736-a47105b74f09",
     "showTitle": false,
     "title": ""
    }
   },
   "outputs": [
    {
     "output_type": "stream",
     "name": "stdout",
     "output_type": "stream",
     "text": [
      "Please provide your Kaggle credentials to download this dataset. Learn more: http://bit.ly/kaggle-creds\nYour Kaggle username:"
     ]
    },
    {
     "output_type": "display_data",
     "data": {
      "text/plain": [
       "  panuwatsunajan"
      ]
     },
     "metadata": {},
     "output_type": "display_data"
    },
    {
     "output_type": "stream",
     "name": "stdout",
     "output_type": "stream",
     "text": [
      "Your Kaggle Key:"
     ]
    },
    {
     "output_type": "display_data",
     "data": {
      "text/plain": [
       "  [REDACTED]"
      ]
     },
     "metadata": {},
     "output_type": "display_data"
    },
    {
     "output_type": "stream",
     "name": "stdout",
     "output_type": "stream",
     "text": [
      "Downloading nyc-tlc-data.zip to /dbfs/FileStore/mypath/nyc-tlc-data\n"
     ]
    },
    {
     "output_type": "stream",
     "name": "stderr",
     "output_type": "stream",
     "text": [
      "\r  0%|          | 0.00/1.20G [00:00<?, ?B/s]\r  0%|          | 1.00M/1.20G [00:00<02:17, 9.36MB/s]\r  0%|          | 5.00M/1.20G [00:00<00:56, 22.6MB/s]\r  1%|          | 9.00M/1.20G [00:00<01:06, 19.1MB/s]\r  1%|          | 12.0M/1.20G [00:00<01:02, 20.4MB/s]\r  1%|▏         | 17.0M/1.20G [00:00<01:01, 20.8MB/s]\r  2%|▏         | 21.0M/1.20G [00:00<00:50, 25.2MB/s]\r  2%|▏         | 25.0M/1.20G [00:01<00:49, 25.5MB/s]\r  2%|▏         | 28.0M/1.20G [00:01<00:47, 26.4MB/s]\r  3%|▎         | 31.0M/1.20G [00:01<00:45, 27.3MB/s]\r  3%|▎         | 34.0M/1.20G [00:01<00:52, 23.7MB/s]\r  3%|▎         | 40.0M/1.20G [00:01<00:41, 30.0MB/s]\r  4%|▎         | 43.0M/1.20G [00:01<00:54, 22.9MB/s]\r  4%|▍         | 48.0M/1.20G [00:02<00:44, 27.7MB/s]\r  4%|▍         | 53.0M/1.20G [00:02<00:40, 30.3MB/s]\r  5%|▍         | 57.0M/1.20G [00:02<00:47, 25.5MB/s]\r  5%|▍         | 60.0M/1.20G [00:02<00:48, 25.0MB/s]\r  5%|▌         | 65.0M/1.20G [00:02<00:43, 27.7MB/s]\r  6%|▌         | 69.0M/1.20G [00:02<00:40, 29.7MB/s]\r  6%|▌         | 73.0M/1.20G [00:02<00:39, 30.2MB/s]\r  6%|▌         | 76.0M/1.20G [00:03<00:40, 29.6MB/s]\r  7%|▋         | 80.0M/1.20G [00:03<00:37, 31.6MB/s]\r  7%|▋         | 84.0M/1.20G [00:03<00:39, 30.2MB/s]\r  7%|▋         | 87.0M/1.20G [00:03<00:40, 29.5MB/s]\r  7%|▋         | 90.0M/1.20G [00:03<00:40, 29.4MB/s]\r  8%|▊         | 94.0M/1.20G [00:03<00:39, 29.8MB/s]\r  8%|▊         | 97.0M/1.20G [00:03<00:39, 29.7MB/s]\r  8%|▊         | 100M/1.20G [00:03<00:42, 27.8MB/s] \r  9%|▊         | 105M/1.20G [00:04<00:52, 22.5MB/s]\r  9%|▉         | 111M/1.20G [00:04<00:38, 30.0MB/s]\r  9%|▉         | 115M/1.20G [00:04<00:44, 26.2MB/s]\r 10%|▉         | 121M/1.20G [00:04<00:56, 20.5MB/s]\r 10%|█         | 127M/1.20G [00:05<00:43, 26.2MB/s]\r 11%|█         | 131M/1.20G [00:05<00:44, 25.9MB/s]\r 11%|█         | 136M/1.20G [00:05<00:38, 30.0MB/s]\r 11%|█▏        | 140M/1.20G [00:05<00:37, 30.4MB/s]\r 12%|█▏        | 144M/1.20G [00:05<00:35, 31.9MB/s]\r 12%|█▏        | 148M/1.20G [00:05<00:36, 31.2MB/s]\r 12%|█▏        | 152M/1.20G [00:05<00:36, 31.2MB/s]\r 13%|█▎        | 156M/1.20G [00:06<00:39, 28.4MB/s]\r 13%|█▎        | 161M/1.20G [00:06<00:45, 24.6MB/s]\r 14%|█▎        | 166M/1.20G [00:06<00:37, 29.4MB/s]\r 14%|█▍        | 170M/1.20G [00:06<00:46, 23.9MB/s]\r 14%|█▍        | 176M/1.20G [00:06<00:36, 29.8MB/s]\r 15%|█▍        | 180M/1.20G [00:06<00:37, 29.4MB/s]\r 15%|█▌        | 184M/1.20G [00:07<00:36, 29.9MB/s]\r 15%|█▌        | 188M/1.20G [00:07<00:39, 27.4MB/s]\r 16%|█▌        | 193M/1.20G [00:07<00:42, 25.3MB/s]\r 16%|█▋        | 201M/1.20G [00:07<00:41, 25.8MB/s]\r 17%|█▋        | 205M/1.20G [00:07<00:37, 28.3MB/s]\r 17%|█▋        | 209M/1.20G [00:08<00:48, 22.1MB/s]\r 18%|█▊        | 215M/1.20G [00:08<00:39, 27.0MB/s]\r 18%|█▊        | 219M/1.20G [00:08<00:38, 27.5MB/s]\r 18%|█▊        | 223M/1.20G [00:08<00:35, 29.9MB/s]\r 19%|█▊        | 227M/1.20G [00:08<00:40, 25.6MB/s]\r 19%|█▉        | 231M/1.20G [00:09<00:39, 26.1MB/s]\r 19%|█▉        | 234M/1.20G [00:09<00:42, 24.4MB/s]\r 20%|█▉        | 239M/1.20G [00:09<00:35, 28.9MB/s]\r 20%|█▉        | 242M/1.20G [00:09<00:37, 27.3MB/s]\r 20%|██        | 248M/1.20G [00:09<00:29, 34.8MB/s]\r 21%|██        | 252M/1.20G [00:09<00:32, 31.3MB/s]\r 21%|██        | 256M/1.20G [00:09<00:31, 32.7MB/s]\r 21%|██        | 260M/1.20G [00:10<00:37, 27.3MB/s]\r 21%|██▏       | 263M/1.20G [00:10<00:36, 27.7MB/s]\r 22%|██▏       | 266M/1.20G [00:10<00:39, 25.7MB/s]\r 22%|██▏       | 271M/1.20G [00:10<00:32, 30.4MB/s]\r 22%|██▏       | 275M/1.20G [00:10<00:34, 28.5MB/s]\r 23%|██▎       | 281M/1.20G [00:10<00:36, 27.1MB/s]\r 23%|██▎       | 286M/1.20G [00:10<00:31, 31.2MB/s]\r 24%|██▎       | 290M/1.20G [00:11<00:41, 23.7MB/s]\r 24%|██▍       | 295M/1.20G [00:11<00:37, 26.2MB/s]\r 24%|██▍       | 298M/1.20G [00:11<00:36, 26.8MB/s]\r 25%|██▍       | 301M/1.20G [00:11<00:40, 24.1MB/s]\r 25%|██▍       | 305M/1.20G [00:11<00:45, 21.2MB/s]\r 25%|██▌       | 312M/1.20G [00:12<00:31, 30.6MB/s]\r 26%|██▌       | 316M/1.20G [00:12<00:42, 22.3MB/s]\r 26%|██▌       | 321M/1.20G [00:12<00:43, 21.8MB/s]\r 27%|██▋       | 327M/1.20G [00:12<00:34, 27.1MB/s]\r 27%|██▋       | 331M/1.20G [00:12<00:39, 23.9MB/s]\r 27%|██▋       | 336M/1.20G [00:13<00:33, 27.8MB/s]\r 28%|██▊       | 340M/1.20G [00:13<00:40, 23.1MB/s]\r 28%|██▊       | 345M/1.20G [00:13<00:41, 22.2MB/s]\r 29%|██▊       | 350M/1.20G [00:13<00:33, 27.1MB/s]\r 29%|██▉       | 354M/1.20G [00:13<00:36, 25.0MB/s]\r 29%|██▉       | 359M/1.20G [00:14<00:31, 29.0MB/s]\r 30%|██▉       | 363M/1.20G [00:14<00:40, 22.4MB/s]\r 30%|███       | 369M/1.20G [00:14<00:37, 23.7MB/s]\r 31%|███       | 375M/1.20G [00:14<00:29, 30.1MB/s]\r 31%|███       | 379M/1.20G [00:14<00:31, 27.9MB/s]\r 31%|███▏      | 384M/1.20G [00:14<00:27, 32.4MB/s]\r 32%|███▏      | 388M/1.20G [00:15<00:44, 19.9MB/s]\r 32%|███▏      | 393M/1.20G [00:15<00:40, 21.4MB/s]\r 32%|███▏      | 397M/1.20G [00:15<00:37, 23.2MB/s]\r 33%|███▎      | 400M/1.20G [00:15<00:38, 22.2MB/s]\r 33%|███▎      | 403M/1.20G [00:16<00:36, 23.5MB/s]\r 33%|███▎      | 406M/1.20G [00:16<00:38, 22.2MB/s]\r 33%|███▎      | 409M/1.20G [00:16<00:44, 19.3MB/s]\r 34%|███▍      | 414M/1.20G [00:16<00:33, 25.5MB/s]\r 34%|███▍      | 417M/1.20G [00:16<00:43, 19.4MB/s]\r 34%|███▍      | 421M/1.20G [00:16<00:37, 22.4MB/s]\r 35%|███▍      | 426M/1.20G [00:17<00:37, 22.5MB/s]\r 35%|███▌      | 432M/1.20G [00:17<00:31, 26.7MB/s]\r 36%|███▌      | 435M/1.20G [00:17<00:35, 23.6MB/s]\r 36%|███▌      | 440M/1.20G [00:17<00:28, 28.9MB/s]\r 36%|███▋      | 444M/1.20G [00:17<00:30, 27.2MB/s]\r 37%|███▋      | 449M/1.20G [00:17<00:26, 31.1MB/s]\r 37%|███▋      | 453M/1.20G [00:18<00:26, 30.4MB/s]\r 37%|███▋      | 458M/1.20G [00:18<00:32, 24.5MB/s]\r 38%|███▊      | 464M/1.20G [00:18<00:26, 30.4MB/s]\r 38%|███▊      | 468M/1.20G [00:18<00:28, 28.3MB/s]\r 39%|███▊      | 472M/1.20G [00:18<00:25, 30.6MB/s]\r 39%|███▉      | 477M/1.20G [00:18<00:25, 30.7MB/s]\r 39%|███▉      | 481M/1.20G [00:19<00:31, 24.8MB/s]\r 40%|███▉      | 488M/1.20G [00:19<00:23, 32.2MB/s]\r 40%|████      | 492M/1.20G [00:19<00:23, 32.6MB/s]\r 41%|████      | 497M/1.20G [00:19<00:26, 28.7MB/s]\r 41%|████      | 501M/1.20G [00:19<00:24, 31.1MB/s]\r 41%|████      | 505M/1.20G [00:19<00:25, 29.4MB/s]\r 42%|████▏     | 509M/1.20G [00:20<00:25, 29.5MB/s]\r 42%|████▏     | 513M/1.20G [00:20<00:30, 24.7MB/s]\r 42%|████▏     | 519M/1.20G [00:20<00:23, 31.5MB/s]\r 43%|████▎     | 523M/1.20G [00:20<00:28, 25.5MB/s]\r 43%|████▎     | 528M/1.20G [00:20<00:24, 29.7MB/s]\r 43%|████▎     | 532M/1.20G [00:20<00:24, 29.7MB/s]\r 44%|████▍     | 536M/1.20G [00:21<00:22, 32.1MB/s]\r 44%|████▍     | 540M/1.20G [00:21<00:28, 25.6MB/s]\r 44%|████▍     | 544M/1.20G [00:21<00:28, 24.7MB/s]\r 45%|████▍     | 547M/1.20G [00:21<00:27, 25.9MB/s]\r 45%|████▌     | 553M/1.20G [00:21<00:23, 29.9MB/s]\r 46%|████▌     | 560M/1.20G [00:21<00:18, 37.0MB/s]\r 46%|████▌     | 564M/1.20G [00:22<00:20, 33.0MB/s]\r 46%|████▋     | 569M/1.20G [00:22<00:22, 31.2MB/s]\r 47%|████▋     | 575M/1.20G [00:22<00:18, 37.7MB/s]\r 47%|████▋     | 579M/1.20G [00:22<00:25, 26.2MB/s]\r 48%|████▊     | 584M/1.20G [00:22<00:22, 30.3MB/s]\r 48%|████▊     | 588M/1.20G [00:22<00:23, 28.8MB/s]\r 48%|████▊     | 593M/1.20G [00:23<00:30, 21.4MB/s]\r 49%|████▉     | 598M/1.20G [00:23<00:25, 26.0MB/s]\r 49%|████▉     | 602M/1.20G [00:23<00:29, 21.9MB/s]\r 50%|████▉     | 608M/1.20G [00:23<00:23, 27.6MB/s]\r 50%|████▉     | 612M/1.20G [00:23<00:24, 26.5MB/s]\r 50%|█████     | 617M/1.20G [00:24<00:27, 22.9MB/s]\r 51%|█████     | 622M/1.20G [00:24<00:23, 27.4MB/s]\r 51%|█████     | 626M/1.20G [00:24<00:25, 24.6MB/s]\r 51%|█████▏    | 630M/1.20G [00:24<00:23, 26.8MB/s]\r 52%|█████▏    | 633M/1.20G [00:24<00:26, 23.7MB/s]\r 52%|█████▏    | 638M/1.20G [00:25<00:21, 29.1MB/s]\r 52%|█████▏    | 642M/1.20G [00:25<00:27, 22.1MB/s]\r 53%|█████▎    | 648M/1.20G [00:25<00:21, 28.5MB/s]\r 53%|█████▎    | 652M/1.20G [00:25<00:19, 30.8MB/s]\r 54%|█████▎    | 656M/1.20G [00:25<00:18, 32.8MB/s]\r 54%|█████▍    | 660M/1.20G [00:25<00:18, 32.5MB/s]\r 54%|█████▍    | 665M/1.20G [00:26<00:28, 20.3MB/s]\r 55%|█████▍    | 671M/1.20G [00:26<00:22, 25.4MB/s]\r 55%|█████▌    | 675M/1.20G [00:26<00:27, 20.8MB/s]\r 55%|█████▌    | 678M/1.20G [00:26<00:27, 20.9MB/s]\r 56%|█████▌    | 681M/1.20G [00:26<00:27, 21.0MB/s]\r 56%|█████▌    | 687M/1.20G [00:27<00:19, 28.7MB/s]\r 56%|█████▋    | 691M/1.20G [00:27<00:23, 23.7MB/s]\r 57%|█████▋    | 696M/1.20G [00:27<00:20, 27.4MB/s]\r 57%|█████▋    | 700M/1.20G [00:27<00:19, 28.6MB/s]\r 57%|█████▋    | 704M/1.20G [00:27<00:18, 29.2MB/s]\r 58%|█████▊    | 708M/1.20G [00:27<00:20, 25.9MB/s]\r 58%|█████▊    | 713M/1.20G [00:28<00:18, 28.6MB/s]\r 59%|█████▉    | 720M/1.20G [00:28<00:14, 37.5MB/s]\r 59%|█████▉    | 725M/1.20G [00:28<00:20, 25.5MB/s]\r 60%|█████▉    | 729M/1.20G [00:28<00:25, 20.5MB/s]\r 60%|██████    | 736M/1.20G [00:29<00:19, 26.1MB/s]\r 60%|██████    | 740M/1.20G [00:29<00:27, 18.6MB/s]\r 61%|██████    | 745M/1.20G [00:29<00:25, 20.0MB/s]\r 61%|██████    | 749M/1.20G [00:29<00:22, 22.6MB/s]\r 61%|██████▏   | 753M/1.20G [00:29<00:20, 24.0MB/s]\r 62%|██████▏   | 758M/1.20G [00:30<00:17, 28.6MB/s]\r 62%|██████▏   | 762M/1.20G [00:30<00:18, 26.1MB/s]\r 63%|██████▎   | 767M/1.20G [00:30<00:15, 30.1MB/s]\r 63%|██████▎   | 771M/1.20G [00:30<00:19, 24.2MB/s]\r 63%|██████▎   | 775M/1.20G [00:30<00:18, 26.2MB/s]\r 64%|██████▎   | 778M/1.20G [00:30<00:17, 26.1MB/s]\r 64%|██████▍   | 782M/1.20G [00:30<00:15, 29.0MB/s]\r 64%|██████▍   | 786M/1.20G [00:31<00:25, 17.8MB/s]\r 65%|██████▍   | 791M/1.20G [00:31<00:20, 22.0MB/s]\r 65%|██████▌   | 798M/1.20G [00:31<00:14, 29.9MB/s]\r 65%|██████▌   | 802M/1.20G [00:32<00:23, 18.5MB/s]\r 66%|██████▌   | 808M/1.20G [00:32<00:18, 24.2MB/s]\r 66%|██████▋   | 812M/1.20G [00:32<00:17, 25.4MB/s]\r 67%|██████▋   | 816M/1.20G [00:32<00:15, 28.2MB/s]\r 67%|██████▋   | 820M/1.20G [00:32<00:18, 22.4MB/s]\r 67%|██████▋   | 824M/1.20G [00:32<00:16, 24.9MB/s]\r 68%|██████▊   | 828M/1.20G [00:33<00:16, 25.4MB/s]\r 68%|██████▊   | 833M/1.20G [00:33<00:17, 23.9MB/s]\r 68%|██████▊   | 837M/1.20G [00:33<00:15, 26.7MB/s]\r 69%|██████▊   | 841M/1.20G [00:33<00:16, 25.1MB/s]\r 69%|██████▉   | 845M/1.20G [00:33<00:14, 28.0MB/s]\r 69%|██████▉   | 849M/1.20G [00:33<00:15, 25.8MB/s]\r 70%|██████▉   | 852M/1.20G [00:34<00:15, 25.9MB/s]\r 70%|██████▉   | 857M/1.20G [00:34<00:14, 26.1MB/s]\r 70%|███████   | 862M/1.20G [00:34<00:13, 27.9MB/s]\r 71%|███████   | 865M/1.20G [00:34<00:17, 21.0MB/s]\r 71%|███████   | 870M/1.20G [00:34<00:14, 26.1MB/s]\r 71%|███████▏  | 873M/1.20G [00:34<00:16, 22.9MB/s]\r 72%|███████▏  | 879M/1.20G [00:35<00:12, 28.9MB/s]\r 72%|███████▏  | 883M/1.20G [00:35<00:12, 28.1MB/s]\r 73%|███████▎  | 888M/1.20G [00:35<00:11, 31.7MB/s]\r 73%|███████▎  | 892M/1.20G [00:35<00:13, 25.5MB/s]\r 73%|███████▎  | 896M/1.20G [00:35<00:12, 28.0MB/s]\r 73%|███████▎  | 900M/1.20G [00:35<00:13, 24.4MB/s]\r 74%|███████▍  | 905M/1.20G [00:36<00:14, 23.6MB/s]\r 74%|███████▍  | 911M/1.20G [00:36<00:10, 30.4MB/s]\r 75%|███████▍  | 915M/1.20G [00:36<00:14, 22.5MB/s]\r 75%|███████▌  | 921M/1.20G [00:36<00:14, 21.3MB/s]\r 76%|███████▌  | 927M/1.20G [00:37<00:11, 26.6MB/s]\r 76%|███████▌  | 931M/1.20G [00:37<00:11, 27.2MB/s]\r 76%|███████▋  | 935M/1.20G [00:37<00:10, 28.0MB/s]\r 77%|███████▋  | 939M/1.20G [00:37<00:10, 27.9MB/s]\r 77%|███████▋  | 943M/1.20G [00:37<00:09, 30.4MB/s]\r 77%|███████▋  | 947M/1.20G [00:37<00:10, 29.1MB/s]\r 78%|███████▊  | 951M/1.20G [00:37<00:09, 30.0MB/s]\r 78%|███████▊  | 955M/1.20G [00:38<00:10, 28.1MB/s]\r 78%|███████▊  | 960M/1.20G [00:38<00:08, 33.3MB/s]\r 79%|███████▊  | 964M/1.20G [00:38<00:08, 32.5MB/s]\r 79%|███████▉  | 969M/1.20G [00:38<00:08, 31.0MB/s]\r 80%|███████▉  | 974M/1.20G [00:38<00:07, 33.8MB/s]\r 80%|███████▉  | 978M/1.20G [00:38<00:07, 35.4MB/s]\r 80%|████████  | 982M/1.20G [00:38<00:07, 35.4MB/s]\r 81%|████████  | 986M/1.20G [00:39<00:10, 24.6MB/s]\r 81%|████████  | 991M/1.20G [00:39<00:08, 29.5MB/s]\r 81%|████████  | 995M/1.20G [00:39<00:10, 22.6MB/s]\r 82%|████████▏ | 0.98G/1.20G [00:40<00:12, 19.0MB/s]\r 82%|████████▏ | 0.98G/1.20G [00:40<00:08, 26.2MB/s]\r 83%|████████▎ | 0.99G/1.20G [00:40<00:08, 26.5MB/s]\r 83%|████████▎ | 0.99G/1.20G [00:40<00:07, 27.9MB/s]\r 84%|████████▎ | 1.00G/1.20G [00:40<00:06, 31.1MB/s]\r 84%|████████▍ | 1.01G/1.20G [00:40<00:05, 38.2MB/s]\r 85%|████████▍ | 1.01G/1.20G [00:41<00:06, 31.8MB/s]\r 85%|████████▍ | 1.02G/1.20G [00:41<00:06, 30.1MB/s]\r 86%|████████▌ | 1.02G/1.20G [00:41<00:05, 31.7MB/s]\r 86%|████████▌ | 1.03G/1.20G [00:41<00:04, 36.9MB/s]\r 87%|████████▋ | 1.04G/1.20G [00:41<00:04, 38.0MB/s]\r 87%|████████▋ | 1.04G/1.20G [00:41<00:04, 34.3MB/s]\r 88%|████████▊ | 1.05G/1.20G [00:41<00:03, 40.5MB/s]\r 88%|████████▊ | 1.05G/1.20G [00:42<00:03, 41.3MB/s]\r 88%|████████▊ | 1.06G/1.20G [00:42<00:04, 34.8MB/s]\r 89%|████████▊ | 1.06G/1.20G [00:42<00:03, 37.8MB/s]\r 89%|████████▉ | 1.07G/1.20G [00:42<00:03, 36.9MB/s]\r 90%|████████▉ | 1.07G/1.20G [00:42<00:05, 23.8MB/s]\r 90%|█████████ | 1.08G/1.20G [00:43<00:04, 28.0MB/s]\r 91%|█████████ | 1.09G/1.20G [00:43<00:03, 30.1MB/s]\r 91%|█████████▏| 1.09G/1.20G [00:43<00:03, 34.4MB/s]\r 92%|█████████▏| 1.10G/1.20G [00:43<00:03, 33.9MB/s]\r 92%|█████████▏| 1.10G/1.20G [00:43<00:03, 30.7MB/s]\r 93%|█████████▎| 1.11G/1.20G [00:44<00:02, 37.6MB/s]\r 93%|█████████▎| 1.11G/1.20G [00:44<00:02, 35.3MB/s]\r 93%|█████████▎| 1.12G/1.20G [00:44<00:02, 30.1MB/s]\r 94%|█████████▍| 1.12G/1.20G [00:44<00:02, 37.8MB/s]\r 94%|█████████▍| 1.13G/1.20G [00:44<00:02, 35.4MB/s]\r 95%|█████████▍| 1.13G/1.20G [00:44<00:02, 33.4MB/s]\r 95%|█████████▌| 1.14G/1.20G [00:45<00:01, 30.5MB/s]\r 96%|█████████▌| 1.15G/1.20G [00:45<00:01, 31.8MB/s]\r 97%|█████████▋| 1.16G/1.20G [00:45<00:01, 38.5MB/s]\r 97%|█████████▋| 1.16G/1.20G [00:45<00:01, 34.3MB/s]\r 97%|█████████▋| 1.17G/1.20G [00:46<00:01, 26.3MB/s]\r 98%|█████████▊| 1.17G/1.20G [00:46<00:01, 28.7MB/s]\r 98%|█████████▊| 1.17G/1.20G [00:46<00:00, 28.5MB/s]\r 99%|█████████▊| 1.18G/1.20G [00:46<00:00, 30.9MB/s]\r 99%|█████████▉| 1.19G/1.20G [00:46<00:00, 29.1MB/s]\r100%|██████████| 1.20G/1.20G [00:46<00:00, 35.3MB/s]\r100%|██████████| 1.20G/1.20G [00:46<00:00, 27.4MB/s]\n"
     ]
    },
    {
     "output_type": "stream",
     "name": "stdout",
     "output_type": "stream",
     "text": [
      "\n"
     ]
    }
   ],
   "source": [
    "#import library opendatasets แล้วใช้คคำสั่ง .download เพื่อโหลดไฟล์ data จาก kaggle\n",
    "import opendatasets as od\n",
    "\n",
    "od.download(\"https://www.kaggle.com/datasets/gopalkalpnde/nyc-tlc-data/data\",\"/dbfs/FileStore/mypath/\")"
   ]
  },
  {
   "cell_type": "code",
   "execution_count": 0,
   "metadata": {
    "application/vnd.databricks.v1+cell": {
     "cellMetadata": {
      "byteLimit": 2048000,
      "rowLimit": 10000
     },
     "inputWidgets": {},
     "nuid": "1ba2c64a-ac0d-453c-b6fa-99b68dea5694",
     "showTitle": false,
     "title": ""
    }
   },
   "outputs": [
    {
     "output_type": "stream",
     "name": "stdout",
     "output_type": "stream",
     "text": [
      "yellow_tripdata_2015-01.csv\nyellow_tripdata_2016-01.csv\nyellow_tripdata_2017-01.csv\nyellow_tripdata_2018-01.csv\n"
     ]
    }
   ],
   "source": [
    "#ใช้ Is เพื่อดูว่าไฟล์ที่โหลดเก็บไฟล์อะไรไว้บ้าง\n",
    "%sh ls /dbfs/FileStore/mypath/nyc-tlc-data"
   ]
  },
  {
   "cell_type": "code",
   "execution_count": 0,
   "metadata": {
    "application/vnd.databricks.v1+cell": {
     "cellMetadata": {
      "byteLimit": 2048000,
      "rowLimit": 10000
     },
     "inputWidgets": {},
     "nuid": "90bf88c0-b9ec-485b-b785-25c03c47f88c",
     "showTitle": false,
     "title": ""
    }
   },
   "outputs": [
    {
     "output_type": "stream",
     "name": "stdout",
     "output_type": "stream",
     "text": [
      "+--------+--------------------+---------------------+---------------+-------------+------------------+------------------+----------+------------------+------------------+------------------+------------+-----------+-----+-------+----------+------------+---------------------+------------+\n|VendorID|tpep_pickup_datetime|tpep_dropoff_datetime|passenger_count|trip_distance|  pickup_longitude|   pickup_latitude|RatecodeID|store_and_fwd_flag| dropoff_longitude|  dropoff_latitude|payment_type|fare_amount|extra|mta_tax|tip_amount|tolls_amount|improvement_surcharge|total_amount|\n+--------+--------------------+---------------------+---------------+-------------+------------------+------------------+----------+------------------+------------------+------------------+------------+-----------+-----+-------+----------+------------+---------------------+------------+\n|       2| 2016-01-01 00:00:00|  2016-01-01 00:00:00|              2|          1.1|-73.99037170410156| 40.73469543457031|         1|                 N|-73.98184204101562| 40.73240661621094|           2|        7.5|  0.5|    0.5|       0.0|         0.0|                  0.3|         8.8|\n|       2| 2016-01-01 00:00:00|  2016-01-01 00:00:00|              5|          4.9|-73.98078155517578| 40.72991180419922|         1|                 N|-73.94447326660156|40.716678619384766|           1|       18.0|  0.5|    0.5|       0.0|         0.0|                  0.3|        19.3|\n|       2| 2016-01-01 00:00:00|  2016-01-01 00:00:00|              1|        10.54|-73.98455047607422|  40.6795654296875|         1|                 N|-73.95027160644531| 40.78892517089844|           1|       33.0|  0.5|    0.5|       0.0|         0.0|                  0.3|        34.3|\n|       2| 2016-01-01 00:00:00|  2016-01-01 00:00:00|              1|         4.75|-73.99346923828125|40.718990325927734|         1|                 N|-73.96224212646484| 40.65733337402344|           2|       16.5|  0.0|    0.5|       0.0|         0.0|                  0.3|        17.3|\n|       2| 2016-01-01 00:00:00|  2016-01-01 00:00:00|              3|         1.76|-73.96062469482422| 40.78133010864258|         1|                 N|-73.97726440429688|40.758514404296875|           2|        8.0|  0.0|    0.5|       0.0|         0.0|                  0.3|         8.8|\n|       2| 2016-01-01 00:00:00|  2016-01-01 00:18:30|              2|         5.52|-73.98011779785156| 40.74304962158203|         1|                 N|-73.91349029541016| 40.76314163208008|           2|       19.0|  0.5|    0.5|       0.0|         0.0|                  0.3|        20.3|\n|       2| 2016-01-01 00:00:00|  2016-01-01 00:26:45|              2|         7.45|-73.99405670166016| 40.71998977661133|         1|                 N|-73.96636199951172| 40.78987121582031|           2|       26.0|  0.5|    0.5|       0.0|         0.0|                  0.3|        27.3|\n|       1| 2016-01-01 00:00:01|  2016-01-01 00:11:55|              1|          1.2|-73.97942352294922| 40.74461364746094|         1|                 N|-73.99203491210938|40.753944396972656|           2|        9.0|  0.5|    0.5|       0.0|         0.0|                  0.3|        10.3|\n|       1| 2016-01-01 00:00:02|  2016-01-01 00:11:14|              1|          6.0|-73.94715118408203|40.791046142578125|         1|                 N|-73.92076873779297|40.865577697753906|           2|       18.0|  0.5|    0.5|       0.0|         0.0|                  0.3|        19.3|\n|       2| 2016-01-01 00:00:02|  2016-01-01 00:11:08|              1|         3.21|-73.99834442138672| 40.72389602661133|         1|                 N|  -73.995849609375| 40.68840026855469|           2|       11.5|  0.5|    0.5|       0.0|         0.0|                  0.3|        12.8|\n|       2| 2016-01-01 00:00:03|  2016-01-01 00:06:19|              1|         0.79|-74.00614929199219| 40.74491882324219|         1|                 N| -73.9937973022461| 40.74143981933594|           2|        6.0|  0.5|    0.5|       0.0|         0.0|                  0.3|         7.3|\n|       2| 2016-01-01 00:00:03|  2016-01-01 00:15:49|              6|         2.43|-73.96932983398438|  40.7635383605957|         1|                 N|-73.99568939208984|  40.7442512512207|           1|       12.0|  0.5|    0.5|      3.99|         0.0|                  0.3|       17.29|\n|       2| 2016-01-01 00:00:03|  2016-01-01 00:00:11|              4|         0.01|-73.98902130126953| 40.72153854370117|         1|                 N|-73.98896026611328| 40.72169876098633|           2|        2.5|  0.5|    0.5|       0.0|         0.0|                  0.3|         3.8|\n|       1| 2016-01-01 00:00:04|  2016-01-01 00:14:32|              1|          3.7|-74.00430297851562| 40.74224090576172|         1|                 N|-74.00736236572266| 40.70693588256836|           1|       14.0|  0.5|    0.5|      3.05|         0.0|                  0.3|       18.35|\n|       1| 2016-01-01 00:00:05|  2016-01-01 00:14:27|              2|          2.2|-73.99199676513672| 40.71857833862305|         1|                 N|-74.00513458251953| 40.73994445800781|           1|       11.0|  0.5|    0.5|       1.5|         0.0|                  0.3|        13.8|\n|       2| 2016-01-01 00:00:05|  2016-01-01 00:07:17|              1|         0.54|-73.98516082763672|40.768951416015625|         1|                 N|-73.99022674560547|  40.7617301940918|           2|        6.0|  0.5|    0.5|       0.0|         0.0|                  0.3|         7.3|\n|       2| 2016-01-01 00:00:05|  2016-01-01 00:07:14|              1|         1.92|-73.97309112548828| 40.79536056518555|         1|                 N| -73.9783706665039| 40.77315139770508|           2|        7.5|  0.5|    0.5|       0.0|         0.0|                  0.3|         8.8|\n|       1| 2016-01-01 00:00:06|  2016-01-01 00:04:44|              1|          1.7|-73.98210144042969|40.774696350097656|         1|                 Y|-73.97093963623047| 40.79670715332031|           1|        7.0|  0.5|    0.5|      1.65|         0.0|                  0.3|        9.95|\n|       2| 2016-01-01 00:00:06|  2016-01-01 00:07:14|              1|         1.38|-73.99484252929688| 40.71849822998047|         1|                 N|-73.98980712890625|40.734230041503906|           1|        7.0|  0.5|    0.5|      1.66|         0.0|                  0.3|        9.96|\n|       1| 2016-01-01 00:00:07|  2016-01-01 00:20:35|              2|          4.9|-73.95303344726562|40.672115325927734|         1|                 N|  -73.986572265625|40.710594177246094|           1|       19.0|  0.5|    0.5|      4.06|         0.0|                  0.3|       24.36|\n+--------+--------------------+---------------------+---------------+-------------+------------------+------------------+----------+------------------+------------------+------------------+------------+-----------+-----+-------+----------+------------+---------------------+------------+\nonly showing top 20 rows\n\n"
     ]
    }
   ],
   "source": [
    "#เปิดไฟล์จากที่อยู่ไฟล์ที่ต้องการ\n",
    "file_path = \"file:/dbfs/FileStore/mypath/nyc-tlc-data/yellow_tripdata_2016-01.csv\"\n",
    "\n",
    "df_1 = spark.read.options(header=\"true\",inferschema = \"true\").csv(file_path)\n",
    "\n",
    "df_1.show()"
   ]
  },
  {
   "cell_type": "code",
   "execution_count": 0,
   "metadata": {
    "application/vnd.databricks.v1+cell": {
     "cellMetadata": {
      "byteLimit": 2048000,
      "rowLimit": 10000
     },
     "inputWidgets": {},
     "nuid": "ba0743c9-be79-4f1d-8966-e71116097857",
     "showTitle": false,
     "title": ""
    }
   },
   "outputs": [],
   "source": [
    "#แปลงข้อมูลจากคอลัมน์ tpep_pickup_datetime ให้เป็น เวลา ชื่อวันและชั่วโมง แล้วเพิ่มในคอลัมน์ใหม่\n",
    "from pyspark.sql.functions import *\n",
    "\n",
    "df_1 = df_1.withColumn(\"Time\",date_format(col(\"tpep_pickup_datetime\"),\"HH:mm:ss\"))\n",
    "df_1 = df_1.withColumn(\"DayName\", date_format(col(\"tpep_pickup_datetime\"), \"EEEE\"))\n",
    "df_1 = df_1.withColumn(\"Hour\", hour(col(\"tpep_pickup_datetime\")))"
   ]
  },
  {
   "cell_type": "code",
   "execution_count": 0,
   "metadata": {
    "application/vnd.databricks.v1+cell": {
     "cellMetadata": {
      "byteLimit": 2048000,
      "rowLimit": 10000
     },
     "inputWidgets": {},
     "nuid": "4fb32f9d-f13d-4403-b9bc-ff05b253e705",
     "showTitle": false,
     "title": ""
    }
   },
   "outputs": [],
   "source": [
    "#สร้างฟังก์ชัน def ที่รับค่าละติจูดและลองติจูด แล้ว return ค่าเป็นชื่อถนนเป็น string type แล้วใช้ฟังก์ชัน def ที่สร้างหาชื่อถนนจากคอลัมน์ pickup_latitude pickup_longitude dropoff_latitude และ dropoff_longitude เพื่อหาชื่อถนนของจุด pick up และ drop off แล้วเก็บไว้ที่คอลัมน์ใหม่\n",
    "from pyspark.sql import SparkSession\n",
    "from pyspark.sql.functions import udf\n",
    "from pyspark.sql.types import StringType\n",
    "\n",
    "# สร้างฟังก์ชัน UDF เพื่อค้นหาชื่อถนนจากละติจูดและลองติจูด\n",
    "@udf(StringType())\n",
    "def get_street_name(latitude, longitude):\n",
    "    import requests\n",
    "    url = f\"https://nominatim.openstreetmap.org/reverse?format=json&lat={latitude}&lon={longitude}\"\n",
    "    response = requests.get(url)\n",
    "    data = response.json()\n",
    "    if 'address' in data:\n",
    "        if 'road' in data['address']:\n",
    "            return data['address']['road']\n",
    "    return \"ไม่พบข้อมูลถนน\"\n",
    "\n",
    "df_1 = df_1.withColumn(\"street_name_of_pickup\", get_street_name(col(\"pickup_latitude\"), col(\"pickup_longitude\")))\n",
    "df_1 = df_1.withColumn(\"street_name_of_dropoff\", get_street_name(col(\"dropoff_latitude\"), col(\"dropoff_longitude\")))"
   ]
  },
  {
   "cell_type": "code",
   "execution_count": 0,
   "metadata": {
    "application/vnd.databricks.v1+cell": {
     "cellMetadata": {
      "byteLimit": 2048000,
      "rowLimit": 10000
     },
     "inputWidgets": {},
     "nuid": "1af9a26b-ed3a-4b84-aad6-6f7d6e9b652f",
     "showTitle": false,
     "title": ""
    }
   },
   "outputs": [
    {
     "output_type": "display_data",
     "data": {
      "text/html": [
       "<style scoped>\n",
       "  .table-result-container {\n",
       "    max-height: 300px;\n",
       "    overflow: auto;\n",
       "  }\n",
       "  table, th, td {\n",
       "    border: 1px solid black;\n",
       "    border-collapse: collapse;\n",
       "  }\n",
       "  th, td {\n",
       "    padding: 5px;\n",
       "  }\n",
       "  th {\n",
       "    text-align: left;\n",
       "  }\n",
       "</style><div class='table-result-container'><table class='table-result'><thead style='background-color: white'><tr><th>VendorID</th><th>tpep_pickup_datetime</th><th>tpep_dropoff_datetime</th><th>passenger_count</th><th>trip_distance</th><th>pickup_longitude</th><th>pickup_latitude</th><th>RatecodeID</th><th>store_and_fwd_flag</th><th>dropoff_longitude</th><th>dropoff_latitude</th><th>payment_type</th><th>fare_amount</th><th>extra</th><th>mta_tax</th><th>tip_amount</th><th>tolls_amount</th><th>improvement_surcharge</th><th>total_amount</th><th>Time</th><th>DayName</th><th>Hour</th><th>street_name_of_dropoff</th><th>street_name_of_pickup</th></tr></thead><tbody><tr><td>2</td><td>2016-01-01T00:00:00.000+0000</td><td>2016-01-01T00:00:00.000+0000</td><td>2</td><td>1.1</td><td>-73.99037170410156</td><td>40.73469543457031</td><td>1</td><td>N</td><td>-73.98184204101562</td><td>40.73240661621094</td><td>2</td><td>7.5</td><td>0.5</td><td>0.5</td><td>0.0</td><td>0.0</td><td>0.3</td><td>8.8</td><td>00:00:00</td><td>Friday</td><td>0</td><td>1st Avenue</td><td>Union Square East</td></tr><tr><td>2</td><td>2016-01-01T00:00:00.000+0000</td><td>2016-01-01T00:00:00.000+0000</td><td>5</td><td>4.9</td><td>-73.98078155517578</td><td>40.72991180419922</td><td>1</td><td>N</td><td>-73.94447326660156</td><td>40.716678619384766</td><td>1</td><td>18.0</td><td>0.5</td><td>0.5</td><td>0.0</td><td>0.0</td><td>0.3</td><td>19.3</td><td>00:00:00</td><td>Friday</td><td>0</td><td>Jackson Street</td><td>Avenue A</td></tr></tbody></table></div>"
      ]
     },
     "metadata": {
      "application/vnd.databricks.v1+output": {
       "addedWidgets": {},
       "aggData": [],
       "aggError": "",
       "aggOverflow": false,
       "aggSchema": [],
       "aggSeriesLimitReached": false,
       "aggType": "",
       "arguments": {},
       "columnCustomDisplayInfos": {},
       "data": [
        [
         2,
         "2016-01-01T00:00:00.000+0000",
         "2016-01-01T00:00:00.000+0000",
         2,
         1.1,
         -73.99037170410156,
         40.73469543457031,
         1,
         "N",
         -73.98184204101562,
         40.73240661621094,
         2,
         7.5,
         0.5,
         0.5,
         0.0,
         0.0,
         0.3,
         8.8,
         "00:00:00",
         "Friday",
         0,
         "1st Avenue",
         "Union Square East"
        ],
        [
         2,
         "2016-01-01T00:00:00.000+0000",
         "2016-01-01T00:00:00.000+0000",
         5,
         4.9,
         -73.98078155517578,
         40.72991180419922,
         1,
         "N",
         -73.94447326660156,
         40.716678619384766,
         1,
         18.0,
         0.5,
         0.5,
         0.0,
         0.0,
         0.3,
         19.3,
         "00:00:00",
         "Friday",
         0,
         "Jackson Street",
         "Avenue A"
        ]
       ],
       "datasetInfos": [],
       "dbfsResultPath": null,
       "isJsonSchema": true,
       "metadata": {},
       "overflow": false,
       "plotOptions": {
        "customPlotOptions": {},
        "displayType": "table",
        "pivotAggregation": null,
        "pivotColumns": null,
        "xColumns": null,
        "yColumns": null
       },
       "removedWidgets": [],
       "schema": [
        {
         "metadata": "{}",
         "name": "VendorID",
         "type": "\"integer\""
        },
        {
         "metadata": "{}",
         "name": "tpep_pickup_datetime",
         "type": "\"timestamp\""
        },
        {
         "metadata": "{}",
         "name": "tpep_dropoff_datetime",
         "type": "\"timestamp\""
        },
        {
         "metadata": "{}",
         "name": "passenger_count",
         "type": "\"integer\""
        },
        {
         "metadata": "{}",
         "name": "trip_distance",
         "type": "\"double\""
        },
        {
         "metadata": "{}",
         "name": "pickup_longitude",
         "type": "\"double\""
        },
        {
         "metadata": "{}",
         "name": "pickup_latitude",
         "type": "\"double\""
        },
        {
         "metadata": "{}",
         "name": "RatecodeID",
         "type": "\"integer\""
        },
        {
         "metadata": "{}",
         "name": "store_and_fwd_flag",
         "type": "\"string\""
        },
        {
         "metadata": "{}",
         "name": "dropoff_longitude",
         "type": "\"double\""
        },
        {
         "metadata": "{}",
         "name": "dropoff_latitude",
         "type": "\"double\""
        },
        {
         "metadata": "{}",
         "name": "payment_type",
         "type": "\"integer\""
        },
        {
         "metadata": "{}",
         "name": "fare_amount",
         "type": "\"double\""
        },
        {
         "metadata": "{}",
         "name": "extra",
         "type": "\"double\""
        },
        {
         "metadata": "{}",
         "name": "mta_tax",
         "type": "\"double\""
        },
        {
         "metadata": "{}",
         "name": "tip_amount",
         "type": "\"double\""
        },
        {
         "metadata": "{}",
         "name": "tolls_amount",
         "type": "\"double\""
        },
        {
         "metadata": "{}",
         "name": "improvement_surcharge",
         "type": "\"double\""
        },
        {
         "metadata": "{}",
         "name": "total_amount",
         "type": "\"double\""
        },
        {
         "metadata": "{}",
         "name": "Time",
         "type": "\"string\""
        },
        {
         "metadata": "{}",
         "name": "DayName",
         "type": "\"string\""
        },
        {
         "metadata": "{}",
         "name": "Hour",
         "type": "\"integer\""
        },
        {
         "metadata": "{}",
         "name": "street_name_of_dropoff",
         "type": "\"string\""
        },
        {
         "metadata": "{}",
         "name": "street_name_of_pickup",
         "type": "\"string\""
        }
       ],
       "type": "table"
      }
     },
     "output_type": "display_data"
    }
   ],
   "source": [
    "#เช็คข้อมูลที่ได้จาก df_1\n",
    "display(df_1.limit(2))"
   ]
  },
  {
   "cell_type": "code",
   "execution_count": 0,
   "metadata": {
    "application/vnd.databricks.v1+cell": {
     "cellMetadata": {
      "byteLimit": 2048000,
      "rowLimit": 10000
     },
     "inputWidgets": {},
     "nuid": "acf02791-b622-4d5c-a01e-1ee6fe62cd6d",
     "showTitle": false,
     "title": ""
    }
   },
   "outputs": [],
   "source": [
    "#เลือกคอลัมน์ที่ใช้ทำ Visualization มาเก็บไว้ที่ตัวแปร df_2\n",
    "df_2 = df_1.select(df_1.tpep_dropoff_datetime, df_1.passenger_count, df_1.pickup_latitude, df_1.pickup_longitude, \n",
    "    df_1.dropoff_latitude, df_1.dropoff_longitude, df_1.Time, df_1.DayName, df_1.Hour, df_1.street_name_of_pickup, df_1.street_name_of_dropoff)"
   ]
  },
  {
   "cell_type": "code",
   "execution_count": 0,
   "metadata": {
    "application/vnd.databricks.v1+cell": {
     "cellMetadata": {
      "byteLimit": 2048000,
      "rowLimit": 10000
     },
     "inputWidgets": {},
     "nuid": "b7a5f45c-d7dc-4220-bf20-ce44d18c51dd",
     "showTitle": false,
     "title": ""
    }
   },
   "outputs": [
    {
     "output_type": "display_data",
     "data": {
      "text/html": [
       "<style scoped>\n",
       "  .table-result-container {\n",
       "    max-height: 300px;\n",
       "    overflow: auto;\n",
       "  }\n",
       "  table, th, td {\n",
       "    border: 1px solid black;\n",
       "    border-collapse: collapse;\n",
       "  }\n",
       "  th, td {\n",
       "    padding: 5px;\n",
       "  }\n",
       "  th {\n",
       "    text-align: left;\n",
       "  }\n",
       "</style><div class='table-result-container'><table class='table-result'><thead style='background-color: white'><tr><th>tpep_dropoff_datetime</th><th>passenger_count</th><th>pickup_latitude</th><th>pickup_longitude</th><th>dropoff_latitude</th><th>dropoff_longitude</th><th>Time</th><th>DayName</th><th>Hour</th><th>street_name_of_pickup</th><th>street_name_of_dropoff</th></tr></thead><tbody><tr><td>2016-01-01T00:00:00.000+0000</td><td>2</td><td>40.73469543457031</td><td>-73.99037170410156</td><td>40.73240661621094</td><td>-73.98184204101562</td><td>00:00:00</td><td>Friday</td><td>0</td><td>Union Square East</td><td>1st Avenue</td></tr><tr><td>2016-01-01T00:00:00.000+0000</td><td>5</td><td>40.72991180419922</td><td>-73.98078155517578</td><td>40.716678619384766</td><td>-73.94447326660156</td><td>00:00:00</td><td>Friday</td><td>0</td><td>Avenue A</td><td>Jackson Street</td></tr><tr><td>2016-01-01T00:00:00.000+0000</td><td>1</td><td>40.6795654296875</td><td>-73.98455047607422</td><td>40.78892517089844</td><td>-73.95027160644531</td><td>00:00:00</td><td>Friday</td><td>0</td><td>Degraw Street</td><td>East 100th Street</td></tr><tr><td>2016-01-01T00:00:00.000+0000</td><td>1</td><td>40.718990325927734</td><td>-73.99346923828125</td><td>40.65733337402344</td><td>-73.96224212646484</td><td>00:00:00</td><td>Friday</td><td>0</td><td>Chrystie Street</td><td>Ocean Avenue</td></tr><tr><td>2016-01-01T00:00:00.000+0000</td><td>3</td><td>40.78133010864258</td><td>-73.96062469482422</td><td>40.758514404296875</td><td>-73.97726440429688</td><td>00:00:00</td><td>Friday</td><td>0</td><td>5th Avenue</td><td>5th Avenue</td></tr></tbody></table></div>"
      ]
     },
     "metadata": {
      "application/vnd.databricks.v1+output": {
       "addedWidgets": {},
       "aggData": [],
       "aggError": "",
       "aggOverflow": false,
       "aggSchema": [],
       "aggSeriesLimitReached": false,
       "aggType": "",
       "arguments": {},
       "columnCustomDisplayInfos": {},
       "data": [
        [
         "2016-01-01T00:00:00.000+0000",
         2,
         40.73469543457031,
         -73.99037170410156,
         40.73240661621094,
         -73.98184204101562,
         "00:00:00",
         "Friday",
         0,
         "Union Square East",
         "1st Avenue"
        ],
        [
         "2016-01-01T00:00:00.000+0000",
         5,
         40.72991180419922,
         -73.98078155517578,
         40.716678619384766,
         -73.94447326660156,
         "00:00:00",
         "Friday",
         0,
         "Avenue A",
         "Jackson Street"
        ],
        [
         "2016-01-01T00:00:00.000+0000",
         1,
         40.6795654296875,
         -73.98455047607422,
         40.78892517089844,
         -73.95027160644531,
         "00:00:00",
         "Friday",
         0,
         "Degraw Street",
         "East 100th Street"
        ],
        [
         "2016-01-01T00:00:00.000+0000",
         1,
         40.718990325927734,
         -73.99346923828125,
         40.65733337402344,
         -73.96224212646484,
         "00:00:00",
         "Friday",
         0,
         "Chrystie Street",
         "Ocean Avenue"
        ],
        [
         "2016-01-01T00:00:00.000+0000",
         3,
         40.78133010864258,
         -73.96062469482422,
         40.758514404296875,
         -73.97726440429688,
         "00:00:00",
         "Friday",
         0,
         "5th Avenue",
         "5th Avenue"
        ]
       ],
       "datasetInfos": [],
       "dbfsResultPath": null,
       "isJsonSchema": true,
       "metadata": {},
       "overflow": false,
       "plotOptions": {
        "customPlotOptions": {},
        "displayType": "table",
        "pivotAggregation": null,
        "pivotColumns": null,
        "xColumns": null,
        "yColumns": null
       },
       "removedWidgets": [],
       "schema": [
        {
         "metadata": "{}",
         "name": "tpep_dropoff_datetime",
         "type": "\"timestamp\""
        },
        {
         "metadata": "{}",
         "name": "passenger_count",
         "type": "\"integer\""
        },
        {
         "metadata": "{}",
         "name": "pickup_latitude",
         "type": "\"double\""
        },
        {
         "metadata": "{}",
         "name": "pickup_longitude",
         "type": "\"double\""
        },
        {
         "metadata": "{}",
         "name": "dropoff_latitude",
         "type": "\"double\""
        },
        {
         "metadata": "{}",
         "name": "dropoff_longitude",
         "type": "\"double\""
        },
        {
         "metadata": "{}",
         "name": "Time",
         "type": "\"string\""
        },
        {
         "metadata": "{}",
         "name": "DayName",
         "type": "\"string\""
        },
        {
         "metadata": "{}",
         "name": "Hour",
         "type": "\"integer\""
        },
        {
         "metadata": "{}",
         "name": "street_name_of_pickup",
         "type": "\"string\""
        },
        {
         "metadata": "{}",
         "name": "street_name_of_dropoff",
         "type": "\"string\""
        }
       ],
       "type": "table"
      }
     },
     "output_type": "display_data"
    }
   ],
   "source": [
    "#เช็คข้อมูลที่ได้จาก df_2\n",
    "display(df_2.limit(5))"
   ]
  },
  {
   "cell_type": "code",
   "execution_count": 0,
   "metadata": {
    "application/vnd.databricks.v1+cell": {
     "cellMetadata": {},
     "inputWidgets": {},
     "nuid": "ccf75852-a052-4232-970b-7e11ea5e5421",
     "showTitle": false,
     "title": ""
    }
   },
   "outputs": [],
   "source": [
    "#เซฟไฟล์ Output\n",
    "df_2.coalesce(1).write.format(\"com.databricks.spark.csv\").option(\"header\", \"true\").save(\"dbfs:/FileStore/tables/FinalProject.csv\")"
   ]
  }
 ],
 "metadata": {
  "application/vnd.databricks.v1+notebook": {
   "dashboards": [],
   "language": "python",
   "notebookMetadata": {
    "mostRecentlyExecutedCommandWithImplicitDF": {
     "commandId": 3200772153928286,
     "dataframes": [
      "_sqldf"
     ]
    },
    "pythonIndentUnit": 4
   },
   "notebookName": "Project_03",
   "widgets": {}
  }
 },
 "nbformat": 4,
 "nbformat_minor": 0
}
